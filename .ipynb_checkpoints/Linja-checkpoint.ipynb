{
 "cells": [
  {
   "cell_type": "code",
   "execution_count": 1,
   "id": "b0d60508",
   "metadata": {},
   "outputs": [],
   "source": [
    "from copy import deepcopy\n",
    "from typing import Tuple, List"
   ]
  },
  {
   "cell_type": "code",
   "execution_count": 2,
   "id": "dd8e1193",
   "metadata": {},
   "outputs": [],
   "source": [
    "class BoardLinja:\n",
    "    \n",
    "    def __init__(self, board):\n",
    "        self.setMatrix(board)\n",
    "    \n",
    "    \n",
    "    def __eq__(self, other) -> bool:\n",
    "        \n",
    "        state = False\n",
    "        \n",
    "        for i in range(len(self.board)):\n",
    "            for j in range(len(self.board[i])):\n",
    "                if self.board[i][j] != other.board[i][j]:\n",
    "                    state = False\n",
    "                    break\n",
    "        \n",
    "        return state\n",
    "    \n",
    "    \n",
    "    \n",
    "    def getMatrix(self) -> List[List]:\n",
    "        return deepcopy(board)\n",
    "    \n",
    "    \n",
    "    \n",
    "    def setMatrix(self , board):  \n",
    "        self.board = deepcopy(board)\n",
    "    \n",
    "    \n",
    "    \n",
    "    def placeTile(self, row: int, col: int, tile: str):\n",
    "            \n",
    "            setMatrix()\n",
    "            #Set value of the position (rox, col) to title\n",
    "            board[row][col] = title\n",
    "    \n",
    "    \n",
    "    \n",
    "    def deleteTile(self, row: int, col: int):\n",
    "        \n",
    "        #Set value of the position (row, col) to N (Nothing)\n",
    "        board[row][col] == \"N\"\n",
    "        \n",
    "    #def utility(self) -> int:\n",
    "        \n",
    "        \n",
    "  #      return XXXXXXX\n",
    "\n",
    "    \n",
    "    \n",
    "    \n",
    "    \n",
    "    #def isAvailable(self) -> List:\n",
    "    \n",
    "    \n",
    "  # Hay que rellenarlo\n",
    "\n",
    "\n",
    "        #return listaFilas\n",
    "        \n",
    "    \n",
    "    \n",
    "    \n",
    "    #def endGame(self) -> int:\n",
    "        \n",
    "        \n",
    "  #    Va a determinar qué jugador es el ganador.\n",
    "\n",
    "        \n",
    "  #      return victory"
   ]
  },
  {
   "cell_type": "code",
   "execution_count": 6,
   "id": "2f124a41",
   "metadata": {},
   "outputs": [
    {
     "name": "stdout",
     "output_type": "stream",
     "text": [
      "False\n",
      "False\n"
     ]
    }
   ],
   "source": [
    "board1 = [[\"N\", \"X\", \"N\"], [\"N\", \"O\", \"N\"], [\"N\", \"N\", \"N\"]]\n",
    "board2 = [[\"N\", \"X\", \"N\"], [\"N\", \"O\", \"N\"], [\"N\", \"N\", \"N\"]]\n",
    "board3 = [[\"N\", \"X\", \"A\"], [\"N\", \"O\", \"N\"], [\"N\", \"X\", \"N\"]]\n",
    "\n",
    "objeto1 = BoardLinja(board1)\n",
    "objeto2 = BoardLinja(board2)\n",
    "objeto3 = BoardLinja(board3)\n",
    "\n",
    "print(objeto1 == objeto2)  # Debería imprimir True\n",
    "print(objeto1 == objeto3)  # Debería imprimir False"
   ]
  },
  {
   "cell_type": "code",
   "execution_count": 4,
   "id": "280698fb",
   "metadata": {},
   "outputs": [
    {
     "name": "stdout",
     "output_type": "stream",
     "text": [
      "['BBBBBB\\n', 'BNNNNR\\n', 'BNNNNR\\n', 'BNNNNR\\n', 'BNNNNR\\n', 'BNNNNR\\n', 'BNNNNR\\n', 'RRRRRR']\n"
     ]
    }
   ],
   "source": [
    "# Load of the start board\n",
    "fileHandler = open (\"gameStart.txt\", \"r\",encoding=\"utf-8\")\n",
    "# Get list of all lines in file\n",
    "board = fileHandler.readlines()\n",
    "# Close file \n",
    "fileHandler.close()\n",
    "\n",
    "board_instance = BoardLinja(board)\n",
    "print(board)"
   ]
  },
  {
   "cell_type": "code",
   "execution_count": 5,
   "id": "a24c786d",
   "metadata": {},
   "outputs": [
    {
     "ename": "TypeError",
     "evalue": "BoardLinja.getMatrix() takes 1 positional argument but 2 were given",
     "output_type": "error",
     "traceback": [
      "\u001b[1;31m---------------------------------------------------------------------------\u001b[0m",
      "\u001b[1;31mTypeError\u001b[0m                                 Traceback (most recent call last)",
      "Cell \u001b[1;32mIn[5], line 13\u001b[0m\n\u001b[0;32m     10\u001b[0m \u001b[38;5;66;03m# Llamar al método getMatrix para obtener la matriz del tablero\u001b[39;00m\n\u001b[0;32m     11\u001b[0m board_instance\u001b[38;5;241m.\u001b[39mdeleteTile(\u001b[38;5;241m0\u001b[39m,\u001b[38;5;241m0\u001b[39m)\n\u001b[1;32m---> 13\u001b[0m board_matrix \u001b[38;5;241m=\u001b[39m board_instance\u001b[38;5;241m.\u001b[39mgetMatrix(board)\n\u001b[0;32m     14\u001b[0m \u001b[38;5;28mprint\u001b[39m(board_matrix)\n",
      "\u001b[1;31mTypeError\u001b[0m: BoardLinja.getMatrix() takes 1 positional argument but 2 were given"
     ]
    }
   ],
   "source": [
    "# Load of the start board\n",
    "fileHandler = open (\"gameStart.txt\", \"r\",encoding=\"utf-8\")\n",
    "# Get list of all lines in file\n",
    "board = fileHandler.readlines()\n",
    "# Close file \n",
    "fileHandler.close()\n",
    "\n",
    "# Crear una instancia de la clase BoardLinja\n",
    "board_instance = BoardLinja(board)\n",
    "# Llamar al método getMatrix para obtener la matriz del tablero\n",
    "board_instance.deleteTile(0,0)\n",
    "\n",
    "board_matrix = board_instance.getMatrix(board)\n",
    "print(board_matrix)"
   ]
  }
 ],
 "metadata": {
  "kernelspec": {
   "display_name": "Python 3 (ipykernel)",
   "language": "python",
   "name": "python3"
  },
  "language_info": {
   "codemirror_mode": {
    "name": "ipython",
    "version": 3
   },
   "file_extension": ".py",
   "mimetype": "text/x-python",
   "name": "python",
   "nbconvert_exporter": "python",
   "pygments_lexer": "ipython3",
   "version": "3.11.4"
  }
 },
 "nbformat": 4,
 "nbformat_minor": 5
}
