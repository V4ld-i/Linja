{
 "cells": [
  {
   "cell_type": "markdown",
   "id": "5fc12322",
   "metadata": {},
   "source": [
    "# 1º - Variables"
   ]
  },
  {
   "cell_type": "code",
   "execution_count": 1,
   "id": "efeccd27",
   "metadata": {},
   "outputs": [
    {
     "name": "stdout",
     "output_type": "stream",
     "text": [
      "I love pizza\n"
     ]
    }
   ],
   "source": [
    "print(\"I love pizza\")"
   ]
  },
  {
   "cell_type": "code",
   "execution_count": 4,
   "id": "d5d808ab",
   "metadata": {},
   "outputs": [
    {
     "name": "stdout",
     "output_type": "stream",
     "text": [
      "It's really good!\n"
     ]
    }
   ],
   "source": [
    "print(\"It's really good!\")"
   ]
  },
  {
   "cell_type": "code",
   "execution_count": 7,
   "id": "c58001cb",
   "metadata": {},
   "outputs": [
    {
     "name": "stdout",
     "output_type": "stream",
     "text": [
      "<class 'str'>\n",
      "Hello Bro\n"
     ]
    }
   ],
   "source": [
    "name = \"Bro\"\n",
    "print(type(name))\n",
    "print(\"Hello \"+name)"
   ]
  },
  {
   "cell_type": "code",
   "execution_count": 8,
   "id": "bf07b426",
   "metadata": {},
   "outputs": [
    {
     "name": "stdout",
     "output_type": "stream",
     "text": [
      "Bro Code\n"
     ]
    }
   ],
   "source": [
    "first_name = \"Bro\"\n",
    "last_name = \"Code\"\n",
    "full_name = first_name + \" \" + last_name\n",
    "\n",
    "print(full_name)"
   ]
  },
  {
   "cell_type": "code",
   "execution_count": 11,
   "id": "62d59ecd",
   "metadata": {},
   "outputs": [
    {
     "name": "stdout",
     "output_type": "stream",
     "text": [
      "22\n",
      "<class 'int'>\n"
     ]
    }
   ],
   "source": [
    "age = 21\n",
    "age = age + 1\n",
    "#age += 1\n",
    "print(age)\n",
    "print(type(age))"
   ]
  },
  {
   "cell_type": "code",
   "execution_count": 12,
   "id": "a37f75ab",
   "metadata": {},
   "outputs": [
    {
     "ename": "TypeError",
     "evalue": "can only concatenate str (not \"int\") to str",
     "output_type": "error",
     "traceback": [
      "\u001b[1;31m---------------------------------------------------------------------------\u001b[0m",
      "\u001b[1;31mTypeError\u001b[0m                                 Traceback (most recent call last)",
      "Cell \u001b[1;32mIn[12], line 4\u001b[0m\n\u001b[0;32m      2\u001b[0m age \u001b[38;5;241m=\u001b[39m age \u001b[38;5;241m+\u001b[39m \u001b[38;5;241m1\u001b[39m\n\u001b[0;32m      3\u001b[0m \u001b[38;5;66;03m#age += 1\u001b[39;00m\n\u001b[1;32m----> 4\u001b[0m \u001b[38;5;28mprint\u001b[39m(\u001b[38;5;124m\"\u001b[39m\u001b[38;5;124mYour age is: \u001b[39m\u001b[38;5;124m\"\u001b[39m\u001b[38;5;241m+\u001b[39mage)\n",
      "\u001b[1;31mTypeError\u001b[0m: can only concatenate str (not \"int\") to str"
     ]
    }
   ],
   "source": [
    "age = 21\n",
    "age = age + 1\n",
    "#age += 1\n",
    "print(\"Your age is: \"+age)"
   ]
  },
  {
   "cell_type": "markdown",
   "id": "8afd1eb3",
   "metadata": {},
   "source": [
    "No funciona porque intentas concatenar un número como si fuera un string. Para que funcione abra que hacer lo siguiente"
   ]
  },
  {
   "cell_type": "code",
   "execution_count": 13,
   "id": "173fbdf4",
   "metadata": {},
   "outputs": [
    {
     "name": "stdout",
     "output_type": "stream",
     "text": [
      "Your age is: 22\n"
     ]
    }
   ],
   "source": [
    "age = 21\n",
    "age = age + 1\n",
    "#age += 1\n",
    "print(\"Your age is: \"+str(age))"
   ]
  },
  {
   "cell_type": "code",
   "execution_count": 18,
   "id": "c43b743b",
   "metadata": {},
   "outputs": [
    {
     "name": "stdout",
     "output_type": "stream",
     "text": [
      "Your height is: 250.5cm\n"
     ]
    }
   ],
   "source": [
    "height = 250.5\n",
    "print(\"Your height is: \"+str(height)+\"cm\")\n",
    "#print(type(height))"
   ]
  },
  {
   "cell_type": "code",
   "execution_count": 22,
   "id": "6d972e71",
   "metadata": {},
   "outputs": [
    {
     "name": "stdout",
     "output_type": "stream",
     "text": [
      "Are you a human: True\n",
      "<class 'bool'>\n"
     ]
    }
   ],
   "source": [
    "human = True\n",
    "print(\"Are you a human: \"+str(human))\n",
    "print(type(human))"
   ]
  },
  {
   "cell_type": "markdown",
   "id": "389dc33e",
   "metadata": {},
   "source": [
    "## 1.2º - Multiple assignment\n",
    "Allows us to assign multiple variables at the same time in one line of code"
   ]
  },
  {
   "cell_type": "code",
   "execution_count": 24,
   "id": "7cf84a5c",
   "metadata": {},
   "outputs": [
    {
     "name": "stdout",
     "output_type": "stream",
     "text": [
      "Bro\n",
      "20\n",
      "True\n"
     ]
    }
   ],
   "source": [
    "name = \"Bro\"\n",
    "age = 20\n",
    "attractive = True\n",
    "\n",
    "print(name)\n",
    "print(age)\n",
    "print(attractive)"
   ]
  },
  {
   "cell_type": "code",
   "execution_count": 25,
   "id": "4f5dda73",
   "metadata": {},
   "outputs": [
    {
     "name": "stdout",
     "output_type": "stream",
     "text": [
      "Bro\n",
      "20\n",
      "True\n"
     ]
    }
   ],
   "source": [
    "name, age, attractive = \"Bro\", 20, True\n",
    "\n",
    "print(name)\n",
    "print(age)\n",
    "print(attractive)"
   ]
  },
  {
   "cell_type": "code",
   "execution_count": 26,
   "id": "3f75c9ef",
   "metadata": {},
   "outputs": [
    {
     "name": "stdout",
     "output_type": "stream",
     "text": [
      "30\n",
      "30\n",
      "30\n",
      "30\n"
     ]
    }
   ],
   "source": [
    "Spongebob = 30\n",
    "Patrick = 30\n",
    "Sandy = 30\n",
    "Squidward = 30\n",
    "\n",
    "print(Spongebob)\n",
    "print(Patrick)\n",
    "print(Sandy)\n",
    "print(Squidward)"
   ]
  },
  {
   "cell_type": "code",
   "execution_count": 27,
   "id": "70b53ec9",
   "metadata": {},
   "outputs": [
    {
     "name": "stdout",
     "output_type": "stream",
     "text": [
      "30\n",
      "30\n",
      "30\n",
      "30\n"
     ]
    }
   ],
   "source": [
    "Spongebob = Patrick = Sandy = Squidward = 30\n",
    "\n",
    "print(Spongebob)\n",
    "print(Patrick)\n",
    "print(Sandy)\n",
    "print(Squidward)"
   ]
  },
  {
   "cell_type": "markdown",
   "id": "a56bee3d",
   "metadata": {},
   "source": [
    "# 2º - String Methods"
   ]
  },
  {
   "cell_type": "code",
   "execution_count": 38,
   "id": "e426532f",
   "metadata": {},
   "outputs": [
    {
     "name": "stdout",
     "output_type": "stream",
     "text": [
      "3\n",
      "0\n",
      "Bro\n",
      "BRO\n",
      "bro\n",
      "False\n",
      "True\n",
      "1\n",
      "bRa\n",
      "bRobRobRo\n"
     ]
    }
   ],
   "source": [
    "name = \"bRo\"\n",
    "print(len(name))\n",
    "print(name.find(\"b\"))\n",
    "print(name.capitalize())\n",
    "print(name.upper())\n",
    "print(name.lower())\n",
    "print(name.isdigit())\n",
    "print(name.isalpha())\n",
    "print(name.count(\"o\"))\n",
    "print(name.replace(\"o\",\"a\"))\n",
    "print(name*3)"
   ]
  },
  {
   "cell_type": "markdown",
   "id": "901fce83",
   "metadata": {},
   "source": [
    "# 3º - Type Cast"
   ]
  },
  {
   "cell_type": "code",
   "execution_count": null,
   "id": "2c79fcab",
   "metadata": {},
   "outputs": [],
   "source": []
  }
 ],
 "metadata": {
  "kernelspec": {
   "display_name": "Python 3 (ipykernel)",
   "language": "python",
   "name": "python3"
  },
  "language_info": {
   "codemirror_mode": {
    "name": "ipython",
    "version": 3
   },
   "file_extension": ".py",
   "mimetype": "text/x-python",
   "name": "python",
   "nbconvert_exporter": "python",
   "pygments_lexer": "ipython3",
   "version": "3.11.4"
  }
 },
 "nbformat": 4,
 "nbformat_minor": 5
}
