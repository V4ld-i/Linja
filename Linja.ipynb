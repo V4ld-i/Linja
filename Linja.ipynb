{
 "cells": [
  {
   "cell_type": "code",
   "execution_count": 1,
   "id": "b0d60508",
   "metadata": {},
   "outputs": [],
   "source": [
    "from copy import deepcopy\n",
    "from typing import Tuple, List"
   ]
  },
  {
   "cell_type": "code",
   "execution_count": 2,
   "id": "dd8e1193",
   "metadata": {},
   "outputs": [],
   "source": [
    "from typing import List\n",
    "from copy import deepcopy\n",
    "\n",
    "class BoardLinja:\n",
    "    \n",
    "    def __init__(self, board: List[List[str]]):\n",
    "        self.setMatrix(board)\n",
    "    \n",
    "    def __eq__(self, other) -> bool:\n",
    "        for row in range(len(self.board)):\n",
    "            for col in range(len(self.board[row])):\n",
    "                if self.board[row][col] != other.board[row][col]:\n",
    "                    return False\n",
    "        return True\n",
    "    \n",
    "    def getMatrix(self) -> List[List[str]]:\n",
    "        return deepcopy(self.board)\n",
    "    \n",
    "    def setMatrix(self, board: List[List[str]]):\n",
    "        self.board = deepcopy(board)\n",
    "    \n",
    "    def placeTile(self, row: int, col: int, tile: str):\n",
    "        self.board[row][col] = tile\n",
    "    \n",
    "    def deleteTile(self, row: int, col: int):\n",
    "        self.board[row][col] = \"N\"\n",
    "        \n",
    "    def utility(self) -> List[int]:\n",
    "        PointsR = 0\n",
    "        PointsB = 0\n",
    "        for row in range(len(self.board)):\n",
    "            for col in range(len(self.board[row])):\n",
    "                if self.board[row][col] == \"R\":\n",
    "                    if row == 0:\n",
    "                        PointsR += 5\n",
    "                    if row == 1:\n",
    "                        PointsR += 3\n",
    "                    if row == 2:\n",
    "                        PointsR += 2\n",
    "                    if row == 3:\n",
    "                        PointsR += 1\n",
    "                if self.board[row][col] == \"B\":\n",
    "                    if row == 7:\n",
    "                        PointsB += 5\n",
    "                    if row == 6:\n",
    "                        PointsB += 3\n",
    "                    if row == 5:\n",
    "                        PointsB += 2\n",
    "                    if row == 4:\n",
    "                        PointsB += 1\n",
    "                        \n",
    "                    \n",
    "        return [PointsR, PointsB]\n",
    "    \n",
    "    def isAvailable(self) -> List:\n",
    "        # Implementa la lógica para verificar qué posiciones están disponibles en el tablero\n",
    "        # y devuelve una lista de las posiciones disponibles.\n",
    "        pass\n",
    "    \n",
    "    def endGame(self) -> int:\n",
    "        # Implementa la lógica para determinar qué jugador es el ganador.\n",
    "        # Devuelve un valor que representa el resultado del juego\n",
    "        # (por ejemplo, 1 para el jugador 1, 2 para el jugador 2, 0 para empate, etc.).\n",
    "        pass"
   ]
  },
  {
   "cell_type": "code",
   "execution_count": 3,
   "id": "f5ba67b2",
   "metadata": {},
   "outputs": [
    {
     "name": "stdout",
     "output_type": "stream",
     "text": [
      "True\n",
      "False\n"
     ]
    }
   ],
   "source": [
    "board1 = [[\"N\", \"X\", \"N\"], [\"N\", \"O\", \"N\"], [\"N\", \"N\", \"N\"]]\n",
    "board2 = [[\"N\", \"X\", \"N\"], [\"N\", \"O\", \"N\"], [\"N\", \"N\", \"N\"]]\n",
    "board3 = [[\"N\", \"X\", \"A\"], [\"N\", \"O\", \"N\"], [\"N\", \"X\", \"N\"]]\n",
    "\n",
    "objeto1 = BoardLinja(board1)\n",
    "objeto2 = BoardLinja(board2)\n",
    "objeto3 = BoardLinja(board3)\n",
    "\n",
    "print(objeto1 == objeto2)  # Debería imprimir True\n",
    "print(objeto1 == objeto3)  # Debería imprimir False"
   ]
  },
  {
   "cell_type": "code",
   "execution_count": 4,
   "id": "280698fb",
   "metadata": {},
   "outputs": [
    {
     "name": "stdout",
     "output_type": "stream",
     "text": [
      "['RRRRNR\\n', 'NRRRNN\\n', 'NRRNRN\\n', 'NNNRNN\\n', 'NNNNNN\\n', 'NBNNBN\\n', 'NBBBBN\\n', 'BBBBBB']\n",
      "Puntos de los ROJOS 41\n",
      "Puntos de los NEGROS 46\n"
     ]
    }
   ],
   "source": [
    "# Load of the start board\n",
    "fileHandler = open (\"gameStart1.txt\", \"r\",encoding=\"utf-8\")\n",
    "# Get list of all lines in file\n",
    "board = fileHandler.readlines()\n",
    "# Close file \n",
    "fileHandler.close()\n",
    "\n",
    "board_instance = BoardLinja(board)\n",
    "print(board)\n",
    "\n",
    "Lista = board_instance.utility()\n",
    "\n",
    "print(\"Puntos de los ROJOS\", Lista[0])\n",
    "print(\"Puntos de los NEGROS\", Lista[1])"
   ]
  },
  {
   "cell_type": "code",
   "execution_count": 5,
   "id": "a24c786d",
   "metadata": {},
   "outputs": [
    {
     "ename": "TypeError",
     "evalue": "'str' object does not support item assignment",
     "output_type": "error",
     "traceback": [
      "\u001b[1;31m---------------------------------------------------------------------------\u001b[0m",
      "\u001b[1;31mTypeError\u001b[0m                                 Traceback (most recent call last)",
      "Cell \u001b[1;32mIn[5], line 11\u001b[0m\n\u001b[0;32m      9\u001b[0m board_instance \u001b[38;5;241m=\u001b[39m BoardLinja(board)\n\u001b[0;32m     10\u001b[0m \u001b[38;5;66;03m# Llamar al método getMatrix para obtener la matriz del tablero\u001b[39;00m\n\u001b[1;32m---> 11\u001b[0m board_instance\u001b[38;5;241m.\u001b[39mdeleteTile(\u001b[38;5;241m0\u001b[39m,\u001b[38;5;241m0\u001b[39m)\n\u001b[0;32m     13\u001b[0m board_matrix \u001b[38;5;241m=\u001b[39m board_instance\u001b[38;5;241m.\u001b[39mgetMatrix(board)\n\u001b[0;32m     14\u001b[0m \u001b[38;5;28mprint\u001b[39m(board_matrix)\n",
      "Cell \u001b[1;32mIn[2], line 26\u001b[0m, in \u001b[0;36mBoardLinja.deleteTile\u001b[1;34m(self, row, col)\u001b[0m\n\u001b[0;32m     25\u001b[0m \u001b[38;5;28;01mdef\u001b[39;00m \u001b[38;5;21mdeleteTile\u001b[39m(\u001b[38;5;28mself\u001b[39m, row: \u001b[38;5;28mint\u001b[39m, col: \u001b[38;5;28mint\u001b[39m):\n\u001b[1;32m---> 26\u001b[0m     \u001b[38;5;28mself\u001b[39m\u001b[38;5;241m.\u001b[39mboard[row][col] \u001b[38;5;241m=\u001b[39m \u001b[38;5;124m\"\u001b[39m\u001b[38;5;124mN\u001b[39m\u001b[38;5;124m\"\u001b[39m\n",
      "\u001b[1;31mTypeError\u001b[0m: 'str' object does not support item assignment"
     ]
    }
   ],
   "source": [
    "# Load of the start board\n",
    "fileHandler = open (\"gameStart.txt\", \"r\",encoding=\"utf-8\")\n",
    "# Get list of all lines in file\n",
    "board = fileHandler.readlines()\n",
    "# Close file \n",
    "fileHandler.close()\n",
    "\n",
    "# Crear una instancia de la clase BoardLinja\n",
    "board_instance = BoardLinja(board)\n",
    "# Llamar al método getMatrix para obtener la matriz del tablero\n",
    "board_instance.deleteTile(0,0)\n",
    "\n",
    "board_matrix = board_instance.getMatrix(board)\n",
    "print(board_matrix)"
   ]
  }
 ],
 "metadata": {
  "kernelspec": {
   "display_name": "Python 3 (ipykernel)",
   "language": "python",
   "name": "python3"
  },
  "language_info": {
   "codemirror_mode": {
    "name": "ipython",
    "version": 3
   },
   "file_extension": ".py",
   "mimetype": "text/x-python",
   "name": "python",
   "nbconvert_exporter": "python",
   "pygments_lexer": "ipython3",
   "version": "3.11.4"
  }
 },
 "nbformat": 4,
 "nbformat_minor": 5
}
