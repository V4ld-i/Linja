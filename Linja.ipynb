{
 "cells": [
  {
   "cell_type": "code",
   "execution_count": 1,
   "id": "b0d60508",
   "metadata": {},
   "outputs": [],
   "source": [
    "from copy import deepcopy\n",
    "from typing import Tuple, List"
   ]
  },
  {
   "cell_type": "code",
   "execution_count": 2,
   "id": "dd8e1193",
   "metadata": {},
   "outputs": [],
   "source": [
    "from typing import List\n",
    "from copy import deepcopy\n",
    "\n",
    "class BoardLinja:\n",
    "    \n",
    "    def __init__(self, board: List[List[str]]):\n",
    "        self.setMatrix(board)\n",
    "    \n",
    "    def __eq__(self, other) -> bool:\n",
    "        for row in range(len(self.board)):\n",
    "            for col in range(len(self.board[row])):\n",
    "                if self.board[row][col] != other.board[row][col]:\n",
    "                    return False\n",
    "        return True\n",
    "    \n",
    "    def getMatrix(self) -> List[List[str]]:\n",
    "        #return deepcopy(self.board)\n",
    "        return [''.join(row) + '\\n' for row in self.board]\n",
    "    \n",
    "    def setMatrix(self, board: List[List[str]]):\n",
    "        self.board = deepcopy(board)\n",
    "    \n",
    "    def placeTile(self, row: int, col: int, tile: str):\n",
    "        self.board[row][col] = tile\n",
    "    \n",
    "    def deleteTile(self, row: int, col: int):\n",
    "        self.board[row][col] = \"N\"\n",
    "        \n",
    "    def utility(self) -> List[int]:\n",
    "        PointsR = 0\n",
    "        PointsB = 0\n",
    "        for row in range(len(self.board)):\n",
    "            for col in range(len(self.board[row])):\n",
    "                if self.board[row][col] == \"R\":\n",
    "                    if row == 0:\n",
    "                        PointsR += 5\n",
    "                    if row == 1:\n",
    "                        PointsR += 3\n",
    "                    if row == 2:\n",
    "                        PointsR += 2\n",
    "                    if row == 3:\n",
    "                        PointsR += 1\n",
    "                if self.board[row][col] == \"B\":\n",
    "                    if row == 7:\n",
    "                        PointsB += 5\n",
    "                    if row == 6:\n",
    "                        PointsB += 3\n",
    "                    if row == 5:\n",
    "                        PointsB += 2\n",
    "                    if row == 4:\n",
    "                        PointsB += 1\n",
    "                        \n",
    "                    \n",
    "        return [PointsR, PointsB]\n",
    "    \n",
    "    def isAvailable(self) -> List:\n",
    "        # Implementa la lógica para verificar qué posiciones están disponibles en el tablero\n",
    "        # y devuelve una lista de las posiciones disponibles.\n",
    "        available_positions = []\n",
    "        for row in range(len(self.board)):\n",
    "            for col in range(len(self.board[row])):\n",
    "                if self.board[row][col] == \"N\":\n",
    "                    available_positions.append((row, col))\n",
    "        return available_positions\n",
    "        \n",
    "    \n",
    "    def endGame(self) -> int:\n",
    "        # Implementa la lógica para determinar qué jugador es el ganador.\n",
    "        # Devuelve un valor que representa el resultado del juego\n",
    "        # (por ejemplo, 1 para el jugador 1, 2 para el jugador 2, 0 para empate, etc.).\n",
    "        pass\n",
    "    \n",
    "    def numMovs(self, row: int) -> int:\n",
    "    \n",
    "    \n",
    "    \n",
    "    # Hay que rellenarlo\n",
    "    \n",
    "    \n",
    "    \n",
    "        return nm\n",
    "    \n",
    "    def obtenerMov(self, row: int, col: int, playerID: int, numMov:int, numFilasSeg: int) -> List[List]:\n",
    "    \n",
    "\n",
    "    # Hay que rellenarlo\n",
    "    \n",
    "    \n",
    "        return XXXXXXXXXX\n",
    "    \n",
    "    def moverFicha():\n",
    "    \n",
    "     \n",
    "        # A definir...\n",
    "    \n",
    "        return 0"
   ]
  },
  {
   "cell_type": "code",
   "execution_count": 3,
   "id": "f5ba67b2",
   "metadata": {},
   "outputs": [
    {
     "name": "stdout",
     "output_type": "stream",
     "text": [
      "True\n",
      "False\n"
     ]
    }
   ],
   "source": [
    "board1 = [[\"N\", \"X\", \"N\"], [\"N\", \"O\", \"N\"], [\"N\", \"N\", \"N\"]]\n",
    "board2 = [[\"N\", \"X\", \"N\"], [\"N\", \"O\", \"N\"], [\"N\", \"N\", \"N\"]]\n",
    "board3 = [[\"N\", \"X\", \"A\"], [\"N\", \"O\", \"N\"], [\"N\", \"X\", \"N\"]]\n",
    "\n",
    "objeto1 = BoardLinja(board1)\n",
    "objeto2 = BoardLinja(board2)\n",
    "objeto3 = BoardLinja(board3)\n",
    "\n",
    "print(objeto1 == objeto2)  # Debería imprimir True\n",
    "print(objeto1 == objeto3)  # Debería imprimir False"
   ]
  },
  {
   "cell_type": "markdown",
   "id": "fe35e4e3",
   "metadata": {},
   "source": [
    "# Comprobacion de la función utility"
   ]
  },
  {
   "cell_type": "code",
   "execution_count": 4,
   "id": "280698fb",
   "metadata": {
    "scrolled": true
   },
   "outputs": [
    {
     "name": "stdout",
     "output_type": "stream",
     "text": [
      "RRRRNR\n",
      "NRRRNN\n",
      "NRRNRN\n",
      "NNNRNN\n",
      "NNNNNN\n",
      "NBNNBN\n",
      "NBBBBN\n",
      "BBBBBB\n",
      "\n",
      "Puntos de los ROJOS 41\n",
      "Puntos de los NEGROS 46\n"
     ]
    }
   ],
   "source": [
    "# Load of the start board\n",
    "fileHandler = open (\"gameStart1.txt\", \"r\",encoding=\"utf-8\")\n",
    "# Get list of all lines in file\n",
    "board = [list(line.strip()) for line in fileHandler.readlines()]\n",
    "# Close file \n",
    "fileHandler.close()\n",
    "\n",
    "board_instance = BoardLinja(board)\n",
    "board_matrix = board_instance.getMatrix()\n",
    "for row in board_matrix:\n",
    "    print(row, end='')\n",
    "\n",
    "Lista = board_instance.utility()\n",
    "print(\"\\nPuntos de los ROJOS\", Lista[0])\n",
    "print(\"Puntos de los NEGROS\", Lista[1])"
   ]
  },
  {
   "cell_type": "markdown",
   "id": "9e2ab292",
   "metadata": {},
   "source": [
    "# Comprobacion de la función deleteLinja"
   ]
  },
  {
   "cell_type": "code",
   "execution_count": 5,
   "id": "a24c786d",
   "metadata": {},
   "outputs": [
    {
     "name": "stdout",
     "output_type": "stream",
     "text": [
      "NBBBBB\n",
      "BNNNNR\n",
      "BNNNNR\n",
      "BNNNNR\n",
      "BNNNNR\n",
      "BNNNNR\n",
      "BNNNNR\n",
      "RRRRRR\n"
     ]
    }
   ],
   "source": [
    "# Load of the start board\n",
    "fileHandler = open (\"gameStart.txt\", \"r\",encoding=\"utf-8\")\n",
    "# Get list of all lines in file\n",
    "board = [list(line.strip()) for line in fileHandler.readlines()]\n",
    "# Close file \n",
    "fileHandler.close()\n",
    "\n",
    "# Crear una instancia de la clase BoardLinja\n",
    "board_instance = BoardLinja(board)\n",
    "# Llamar al método getMatrix para obtener la matriz del tablero\n",
    "row = 0\n",
    "col = 0\n",
    "board_instance.deleteTile(row, col)\n",
    "\n",
    "board_matrix = board_instance.getMatrix()\n",
    "for row in board_matrix:\n",
    "    print(row, end='')"
   ]
  },
  {
   "cell_type": "markdown",
   "id": "43a57845",
   "metadata": {},
   "source": [
    "# Comprobacion de la función placeTitle"
   ]
  },
  {
   "cell_type": "code",
   "execution_count": 6,
   "id": "c3a88f16",
   "metadata": {},
   "outputs": [
    {
     "name": "stdout",
     "output_type": "stream",
     "text": [
      "RBBBBB\n",
      "BNNNNR\n",
      "BNNNNR\n",
      "BNNNNR\n",
      "BNNNNR\n",
      "BNNNNR\n",
      "BNNNNR\n",
      "RRRRRR\n"
     ]
    }
   ],
   "source": [
    "# Load of the start board\n",
    "fileHandler = open (\"gameStart.txt\", \"r\",encoding=\"utf-8\")\n",
    "# Get list of all lines in file\n",
    "board = [list(line.strip()) for line in fileHandler.readlines()]\n",
    "# Close file \n",
    "fileHandler.close()\n",
    "\n",
    "# Crear una instancia de la clase BoardLinja\n",
    "board_instance = BoardLinja(board)\n",
    "# Llamar al método getMatrix para obtener la matriz del tablero\n",
    "row = 0\n",
    "col = 0\n",
    "title = \"R\"\n",
    "board_instance.placeTile(row, col, title)\n",
    "\n",
    "board_matrix = board_instance.getMatrix()\n",
    "for row in board_matrix:\n",
    "    print(row, end='')"
   ]
  },
  {
   "cell_type": "markdown",
   "id": "5072f175",
   "metadata": {},
   "source": [
    "# Comprobacion de la función placeTitle"
   ]
  },
  {
   "cell_type": "code",
   "execution_count": 7,
   "id": "95b70fee",
   "metadata": {},
   "outputs": [
    {
     "name": "stdout",
     "output_type": "stream",
     "text": [
      "Posiciones disponibles:\n",
      "Fila: 1, Columna: 1\n",
      "Fila: 1, Columna: 2\n",
      "Fila: 1, Columna: 3\n",
      "Fila: 1, Columna: 4\n",
      "Fila: 2, Columna: 1\n",
      "Fila: 2, Columna: 2\n",
      "Fila: 2, Columna: 3\n",
      "Fila: 2, Columna: 4\n",
      "Fila: 3, Columna: 1\n",
      "Fila: 3, Columna: 2\n",
      "Fila: 3, Columna: 3\n",
      "Fila: 3, Columna: 4\n",
      "Fila: 4, Columna: 1\n",
      "Fila: 4, Columna: 2\n",
      "Fila: 4, Columna: 3\n",
      "Fila: 4, Columna: 4\n",
      "Fila: 5, Columna: 1\n",
      "Fila: 5, Columna: 2\n",
      "Fila: 5, Columna: 3\n",
      "Fila: 5, Columna: 4\n",
      "Fila: 6, Columna: 1\n",
      "Fila: 6, Columna: 2\n",
      "Fila: 6, Columna: 3\n",
      "Fila: 6, Columna: 4\n"
     ]
    }
   ],
   "source": [
    "# Crear una instancia de la clase BoardLinja\n",
    "board_instance = BoardLinja(board)\n",
    "\n",
    "# Obtener las posiciones disponibles\n",
    "available_positions = board_instance.isAvailable()\n",
    "\n",
    "# Imprimir las posiciones disponibles\n",
    "print(\"Posiciones disponibles:\")\n",
    "for position in available_positions:\n",
    "    print(f\"Fila: {position[0]}, Columna: {position[1]}\")"
   ]
  }
 ],
 "metadata": {
  "kernelspec": {
   "display_name": "Python 3 (ipykernel)",
   "language": "python",
   "name": "python3"
  },
  "language_info": {
   "codemirror_mode": {
    "name": "ipython",
    "version": 3
   },
   "file_extension": ".py",
   "mimetype": "text/x-python",
   "name": "python",
   "nbconvert_exporter": "python",
   "pygments_lexer": "ipython3",
   "version": "3.11.4"
  }
 },
 "nbformat": 4,
 "nbformat_minor": 5
}
